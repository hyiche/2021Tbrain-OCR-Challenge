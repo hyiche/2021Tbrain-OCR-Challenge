{
 "cells": [
  {
   "cell_type": "markdown",
   "metadata": {
    "id": "_Lr1cuWChpMQ"
   },
   "source": [
    "# 1. 先載入預訓練好的YOLOv4，對大圖(\"test\"資料夾)做出result.json，再做出小圖(\"little test\"資料夾)\n",
    "# 2. 接著載入預訓練好的TrOCR模型做text generation(要求檔名順序與生成的text對應)"
   ]
  },
  {
   "cell_type": "code",
   "execution_count": 1,
   "metadata": {
    "colab": {
     "base_uri": "https://localhost:8080/"
    },
    "id": "GVFQYkdhSfDu",
    "outputId": "fd0271da-54ba-4587-b332-bfe20222aeef",
    "scrolled": true
   },
   "outputs": [
    {
     "name": "stdout",
     "output_type": "stream",
     "text": [
      "Mon Apr 18 13:57:14 2022       \n",
      "+-----------------------------------------------------------------------------+\n",
      "| NVIDIA-SMI 460.32.03    Driver Version: 460.32.03    CUDA Version: 11.2     |\n",
      "|-------------------------------+----------------------+----------------------+\n",
      "| GPU  Name        Persistence-M| Bus-Id        Disp.A | Volatile Uncorr. ECC |\n",
      "| Fan  Temp  Perf  Pwr:Usage/Cap|         Memory-Usage | GPU-Util  Compute M. |\n",
      "|                               |                      |               MIG M. |\n",
      "|===============================+======================+======================|\n",
      "|   0  Tesla T4            Off  | 00000000:00:04.0 Off |                    0 |\n",
      "| N/A   48C    P8    11W /  70W |      0MiB / 15109MiB |      0%      Default |\n",
      "|                               |                      |                  N/A |\n",
      "+-------------------------------+----------------------+----------------------+\n",
      "                                                                               \n",
      "+-----------------------------------------------------------------------------+\n",
      "| Processes:                                                                  |\n",
      "|  GPU   GI   CI        PID   Type   Process name                  GPU Memory |\n",
      "|        ID   ID                                                   Usage      |\n",
      "|=============================================================================|\n",
      "|  No running processes found                                                 |\n",
      "+-----------------------------------------------------------------------------+\n"
     ]
    }
   ],
   "source": [
    "! nvidia-smi"
   ]
  },
  {
   "cell_type": "code",
   "execution_count": 2,
   "metadata": {
    "colab": {
     "base_uri": "https://localhost:8080/"
    },
    "id": "o2d4uaKzsmEh",
    "outputId": "49a4aae7-06f4-45a4-dbc7-d9fdfec28f28"
   },
   "outputs": [
    {
     "name": "stdout",
     "output_type": "stream",
     "text": [
      "Cloning into 'darknet'...\n",
      "remote: Enumerating objects: 15412, done.\u001b[K\n",
      "remote: Total 15412 (delta 0), reused 0 (delta 0), pack-reused 15412\u001b[K\n",
      "Receiving objects: 100% (15412/15412), 14.04 MiB | 14.69 MiB/s, done.\n",
      "Resolving deltas: 100% (10356/10356), done.\n"
     ]
    }
   ],
   "source": [
    "! git clone https://github.com/AlexeyAB/darknet.git"
   ]
  },
  {
   "cell_type": "code",
   "execution_count": 3,
   "metadata": {
    "id": "S2rLA5fUsnHF"
   },
   "outputs": [],
   "source": [
    "# modify Makefile\n",
    "! sed -i 's/GPU=0/GPU=1/' /content/darknet/Makefile\n",
    "! sed -i 's/CUDNN=0/CUDNN=1/' /content/darknet/Makefile\n",
    "! sed -i 's/OPENCV=0/OPENCV=1/' /content/darknet/Makefile\n",
    "! sed -i 's/CUDNN_HALF=0/CUDNN_HALF=1/' /content/darknet/Makefile"
   ]
  },
  {
   "cell_type": "code",
   "execution_count": 4,
   "metadata": {
    "id": "k8jgNMu2snKE"
   },
   "outputs": [],
   "source": [
    "# compile darknet\n",
    "! cd darknet; make"
   ]
  },
  {
   "cell_type": "code",
   "execution_count": 5,
   "metadata": {
    "colab": {
     "base_uri": "https://localhost:8080/"
    },
    "id": "t1bhlVJshW8n",
    "outputId": "ce7c5d67-9a4a-4003-9b98-b85c60e97957"
   },
   "outputs": [
    {
     "name": "stdout",
     "output_type": "stream",
     "text": [
      "Mounted at /content/gdrive\n"
     ]
    }
   ],
   "source": [
    "from google.colab import drive\n",
    "drive.mount('/content/gdrive')"
   ]
  },
  {
   "cell_type": "code",
   "execution_count": 6,
   "metadata": {
    "id": "k2QgJB2Dmk7Y"
   },
   "outputs": [],
   "source": [
    "# load test data\n",
    "! unzip /content/gdrive/MyDrive/Tbrain/new_public_testing_data.zip > new_testing_data_unzip.log"
   ]
  },
  {
   "cell_type": "code",
   "execution_count": 7,
   "metadata": {
    "id": "_RkXk8HTmk98"
   },
   "outputs": [],
   "source": [
    "# some helper function\n",
    "import cv2\n",
    "from tqdm import trange\n",
    "from random import shuffle\n",
    "from os import listdir\n",
    "from os import rename as rename_mv\n",
    "from pandas import set_option, read_csv\n",
    "\n",
    "set_option('display.max_columns', None)\n",
    "\n",
    "\n",
    "def create_predict_imgs_txt(test_data_path: str, output_path: str):\n",
    "    data_ls = [test_data_path + p for p in listdir(test_data_path)]\n",
    "    with open(f'{output_path}predict_imgs.txt', 'w') as f:\n",
    "        f.write('\\n'.join(data_ls))\n",
    "\n",
    "\n",
    "def generate_label_file_match_each_img(data_path: str, name_path: str, output_path: str):\n",
    "    \"\"\" name_path = '/content/data_description/public_training_data.csv',\n",
    "        output_path = '/content/my_yolo/' \"\"\"\n",
    "    # # after check_each_img_shape(),\n",
    "    # # public_training/testing_data裡的圖片維度都是 height, width, channels = (1028, 1232, 3)\n",
    "    # # width, height, channels = img.shape (X)\n",
    "    # # height, width, channels = img.shape (O)\n",
    "    height, width = 1028, 1232\n",
    "    info_df = read_csv(name_path)\n",
    "    with trange(len(info_df)) as t:\n",
    "        for index in t:\n",
    "            df = info_df.iloc[index, :]\n",
    "            x_min, x_max = min(df['top left x'], df['bottom left x']), max(df['top right x'], df['bottom right x'])\n",
    "            y_min, y_max = min(df['top left y'], df['top right y']), max(df['bottom right y'], df['bottom right y'])\n",
    "            x = (x_min + (x_max - x_min) / 2) * 1.0 / width\n",
    "            y = (y_min + (y_max - y_min) / 2) * 1.0 / height\n",
    "            w = (x_max - x_min) * 1.0 / width\n",
    "            h = (y_max - y_min) * 1.0 / height\n",
    "            # rename data.jpg and move to /my_yolo/\n",
    "            prev_name = f\"{data_path}{df['filename']}.jpg\"\n",
    "            new_name = f'{output_path}img{index}'\n",
    "            rename_mv(prev_name, f'{new_name}.jpg')\n",
    "            # create a data.txt in /my_yolo/\n",
    "            f = open(file=f'{new_name}.txt', mode='w')\n",
    "            f.write(f'0 {x} {y} {w} {h}')\n",
    "            f.close()\n",
    "            t.set_description(f'Progress {index + 1}')\n",
    "\n",
    "\n",
    "def generate_train_test_txt(output_path: str):\n",
    "    \"\"\" output_path = '/content/' \"\"\"\n",
    "    # train_img0.jpg~train_img12066.jpg, total: 12067 img files\n",
    "    data_ls = [f'/content/my_yolo/train_img{i}.jpg' for i in range(12067)]\n",
    "    shuffle(data_ls)\n",
    "    split_index = int(len(data_ls) * 0.8)\n",
    "    train_ls = data_ls[: split_index]\n",
    "    test_ls = data_ls[split_index:]\n",
    "    with open(f'{output_path}train.txt', 'w') as f1, open(f'{output_path}test.txt', 'w') as f2:\n",
    "        f1.write('\\n'.join(train_ls))\n",
    "        f2.write('\\n'.join(test_ls))\n",
    "\n",
    "\n",
    "def check_each_img_shape(data_path: str, name_path: str):\n",
    "    \"\"\" name_path = '/content/data_description/public_training_data.csv',\n",
    "        data_path = '/content/public_training_data/' \"\"\"\n",
    "    info_df = read_csv(name_path)\n",
    "    for index, name in enumerate(info_df['filename']):\n",
    "        image_array = cv2.imread(data_path + name + '.jpg')\n",
    "        print(f'progress: {index}')\n",
    "        assert image_array.shape == (1028, 1232, 3)  # width, height, channels\n",
    "\n",
    "\n",
    "def check_training_coordinate(data_path: str, name_path: str):\n",
    "    \"\"\" data_path='/content/public_training_data/',\n",
    "        name_path='/content/data_description/public_training_data.csv' \"\"\"\n",
    "    # 從slice by coordinate 學到: image array 是(y, x, channels) = (height, width, channels)\n",
    "    # 先前只知道索引值(0, 0)在左上角\n",
    "    # (0, 0)            (1232, 0)\n",
    "    # -------------------------\n",
    "    # |  x+                   |\n",
    "    # | y                     |\n",
    "    # | +                     |\n",
    "    # |                       |\n",
    "    # |                       |\n",
    "    # |                       |\n",
    "    # -------------------------\n",
    "    # (0, 1028)         (1232, 1028)\n",
    "    info_df = read_csv(name_path)\n",
    "    for index in range(len(info_df)):  # range(len(info_df)) [0, 1, 2]\n",
    "        df = info_df.iloc[index, :]\n",
    "        x_min, x_max = min(df['top left x'], df['bottom left x']), max(df['top right x'], df['bottom right x'])\n",
    "        y_min, y_max = min(df['top left y'], df['top right y']), max(df['bottom right y'], df['bottom right y'])\n",
    "        image_array = cv2.imread(data_path + df['filename'] + '.jpg')\n",
    "        slice_by_coordinate = image_array[int(y_min): int(y_max), int(x_min): int(x_max), :]\n",
    "        cv2.imshow('img0', image_array)\n",
    "        cv2.imshow('img1', slice_by_coordinate)\n",
    "        cv2.waitKey(2000)  # pauses for 2 seconds before fetching next image.\n",
    "        print(f\"{index}_{df['filename']}\")\n",
    "        # cv2.destroyWindow('img0')\n",
    "        # cv2.destroyWindow('img1')"
   ]
  },
  {
   "cell_type": "code",
   "execution_count": 8,
   "metadata": {
    "id": "hUKY6JhxmlAb"
   },
   "outputs": [],
   "source": [
    "! rm -rf /content/my_yolo_cfg/\n",
    "! mkdir /content/my_yolo_cfg/"
   ]
  },
  {
   "cell_type": "code",
   "execution_count": 9,
   "metadata": {
    "id": "CvUxTlQFmlEY"
   },
   "outputs": [],
   "source": [
    "# 從gdrive 取出 config file 放置於 /content/my_yolo_cfg/\n",
    "! cp /content/gdrive/MyDrive/Tbrain/my_yolo_cfg/my_obj.* /content/my_yolo_cfg/"
   ]
  },
  {
   "cell_type": "code",
   "execution_count": 10,
   "metadata": {
    "colab": {
     "base_uri": "https://localhost:8080/"
    },
    "id": "lDbwnPCruilR",
    "outputId": "17b64408-70a9-45f4-e24a-c2ca90bf4fdc"
   },
   "outputs": [
    {
     "name": "stdout",
     "output_type": "stream",
     "text": [
      "classes= 1\r\n",
      "train  = /content/my_yolo_cfg/train.txt\r\n",
      "valid  = /content/my_yolo_cfg/test.txt\r\n",
      "names = /content/my_yolo_cfg/my_obj.names\r\n",
      "backup = /content/my_yolo_cfg/my_weights/"
     ]
    }
   ],
   "source": [
    "! head /content/my_yolo_cfg/my_obj.data"
   ]
  },
  {
   "cell_type": "code",
   "execution_count": 11,
   "metadata": {
    "colab": {
     "base_uri": "https://localhost:8080/"
    },
    "id": "wfB3iuDiuint",
    "outputId": "7fbf093c-b0f3-4014-b3d3-6edb50000822"
   },
   "outputs": [
    {
     "name": "stdout",
     "output_type": "stream",
     "text": [
      "target"
     ]
    }
   ],
   "source": [
    "! head /content/my_yolo_cfg/my_obj.names"
   ]
  },
  {
   "cell_type": "code",
   "execution_count": 12,
   "metadata": {
    "id": "aldEQU6Qum70"
   },
   "outputs": [],
   "source": [
    "! mkdir /content/my_yolo_cfg/my_weights/"
   ]
  },
  {
   "cell_type": "code",
   "execution_count": 13,
   "metadata": {
    "id": "zso3Cny8um-P"
   },
   "outputs": [],
   "source": [
    "# download per-training weights from gdrive to /content/my_yolo_cfg/\n",
    "! cp /content/gdrive/MyDrive/Tbrain/yolov4-custom_3000.weights /content/my_yolo_cfg/my_weights/"
   ]
  },
  {
   "cell_type": "code",
   "execution_count": 14,
   "metadata": {
    "id": "z-4lobfIuiqF"
   },
   "outputs": [],
   "source": [
    "# 將原有的參數宣告(.cfg file)從darknet複製到 /content/my_yolo_cfg/。\n",
    "! cp /content/darknet/cfg/yolov4-custom.cfg /content/my_yolo_cfg/"
   ]
  },
  {
   "cell_type": "code",
   "execution_count": 15,
   "metadata": {
    "id": "qjVVNAUXu3X9"
   },
   "outputs": [],
   "source": [
    "# create predict_imgs.txt for detector test generate coordinate prediction\n",
    "create_predict_imgs_txt(test_data_path='/content/new_public_testing_data/', output_path='/content/')"
   ]
  },
  {
   "cell_type": "code",
   "execution_count": 16,
   "metadata": {
    "id": "mIu7ncuynwuW"
   },
   "outputs": [],
   "source": [
    "# train時： 根據GitHub說明，修改參數宣告。\n",
    "# ! sed -i '6s/64/16/' /content/my_yolo_cfg/yolov4-custom.cfg  # batch\n",
    "! sed -i '7s/16/64/' /content/my_yolo_cfg/yolov4-custom.cfg  # mini_batch = batch/subdivisions, if out of memory, try to increase this value.\n",
    "! sed -i '8s/608/832/' /content/my_yolo_cfg/yolov4-custom.cfg  #  network size width, increase network resolution, it will increase precision.\n",
    "! sed -i '9s/608/832/' /content/my_yolo_cfg/yolov4-custom.cfg  #  network size height, increase network resolution, it will increase precision.\n",
    "! sed -i '20s/500500/8000/' /content/my_yolo_cfg/yolov4-custom.cfg  # max_batches means how many epochs in training step.\n",
    "! sed -i '22s/400000,450000/6400,7200/' /content/my_yolo_cfg/yolov4-custom.cfg  # steps\n",
    "! sed -i '970s/80/1/' /content/my_yolo_cfg/yolov4-custom.cfg  # classes\n",
    "! sed -i '1058s/80/1/' /content/my_yolo_cfg/yolov4-custom.cfg  # classes\n",
    "! sed -i '1146s/80/1/' /content/my_yolo_cfg/yolov4-custom.cfg  # classes\n",
    "! sed -i '963s/255/18/' /content/my_yolo_cfg/yolov4-custom.cfg  # filters\n",
    "! sed -i '1051s/255/18/' /content/my_yolo_cfg/yolov4-custom.cfg  # filters\n",
    "! sed -i '1139s/255/18/' /content/my_yolo_cfg/yolov4-custom.cfg  # filters\n",
    "# To make the detected bounded boxes more accurate(higher IoU), we add 3 parameters\n",
    "# ignore_thresh=.9 iou_normalizer=0.5 iou_loss=giou to each [yolo] layer and train.\n",
    "! sed -i '973s/.7/.9/' /content/my_yolo_cfg/yolov4-custom.cfg  # ignore_thresh\n",
    "! sed -i '978s/0.07/0.5/' /content/my_yolo_cfg/yolov4-custom.cfg  # iou_normalizer\n",
    "! sed -i '979s/ciou/giou/' /content/my_yolo_cfg/yolov4-custom.cfg  # iou_loss\n",
    "! sed -i '1061s/.7/.9/' /content/my_yolo_cfg/yolov4-custom.cfg  # ignore_thresh\n",
    "! sed -i '1066s/0.07/0.5/' /content/my_yolo_cfg/yolov4-custom.cfg  # iou_normalizer\n",
    "! sed -i '1067s/ciou/giou/' /content/my_yolo_cfg/yolov4-custom.cfg  # iou_loss\n",
    "! sed -i '1149s/.7/.9/' /content/my_yolo_cfg/yolov4-custom.cfg  # ignore_thresh\n",
    "! sed -i '1155s/0.07/0.5/' /content/my_yolo_cfg/yolov4-custom.cfg  # iou_normalizer\n",
    "! sed -i '1156s/ciou/giou/' /content/my_yolo_cfg/yolov4-custom.cfg  # iou_loss\n",
    "\n",
    "# test時： custom.cfg的內容batch、subdivision都改為1，其餘皆不變(與train時相同)。\n",
    "! sed -i '6s/64/1/' /content/my_yolo_cfg/yolov4-custom.cfg  # batch\n",
    "! sed -i '7s/64/1/' /content/my_yolo_cfg/yolov4-custom.cfg  # mini_batch = batch/subdivisions, if out of memory, try to increase this value."
   ]
  },
  {
   "cell_type": "code",
   "execution_count": 17,
   "metadata": {
    "colab": {
     "base_uri": "https://localhost:8080/"
    },
    "id": "V_eTXwcLnwxT",
    "outputId": "2528d7fe-99a2-49d7-fff7-cf0d03fee554"
   },
   "outputs": [
    {
     "name": "stdout",
     "output_type": "stream",
     "text": [
      "batch=1\n",
      "subdivisions=1\n",
      "width=832\n",
      "height=832\n",
      "max_batches = 8000\n",
      "steps=6400,7200\n"
     ]
    }
   ],
   "source": [
    "# 查看yolov4-custom.cfg第6、7、8、9、20、22行的設定。\n",
    "! sed -n -e 6p -e 7p -e 8p -e 9p -e 20p -e 22p /content/my_yolo_cfg/yolov4-custom.cfg"
   ]
  },
  {
   "cell_type": "markdown",
   "metadata": {
    "id": "Q4saOIft53to"
   },
   "source": [
    "# 於此生成 new_test_result.json後，藉此去生成小圖(little)"
   ]
  },
  {
   "cell_type": "code",
   "execution_count": 18,
   "metadata": {
    "id": "Zj2vg2oZmlCc"
   },
   "outputs": [],
   "source": [
    "# predict multiple images and output .json\n",
    "! darknet/darknet detector test /content/my_yolo_cfg/my_obj.data /content/my_yolo_cfg/yolov4-custom.cfg /content/my_yolo_cfg/my_weights/yolov4-custom_3000.weights -dont_show -ext_output -out new_test_result.json < /content/predict_imgs.txt"
   ]
  },
  {
   "cell_type": "markdown",
   "metadata": {
    "id": "F72LovS6By4M"
   },
   "source": [
    "# 生成小圖後做文字辨識"
   ]
  },
  {
   "cell_type": "code",
   "execution_count": 19,
   "metadata": {
    "colab": {
     "base_uri": "https://localhost:8080/"
    },
    "id": "wlKeNOT7Y6u8",
    "outputId": "be134434-b01b-4546-a41c-6f54ab29245c"
   },
   "outputs": [
    {
     "name": "stdout",
     "output_type": "stream",
     "text": [
      "Drive already mounted at /content/gdrive; to attempt to forcibly remount, call drive.mount(\"/content/gdrive\", force_remount=True).\n"
     ]
    }
   ],
   "source": [
    "from google.colab import drive\n",
    "drive.mount('/content/gdrive')"
   ]
  },
  {
   "cell_type": "code",
   "execution_count": 20,
   "metadata": {
    "colab": {
     "base_uri": "https://localhost:8080/"
    },
    "id": "2YYKuoIXn2wW",
    "outputId": "d19f34ee-6df3-4eeb-9a6a-086b7e04ff60"
   },
   "outputs": [
    {
     "name": "stdout",
     "output_type": "stream",
     "text": [
      "Collecting transformers==4.12.0\n",
      "  Downloading transformers-4.12.0-py3-none-any.whl (3.1 MB)\n",
      "\u001b[K     |████████████████████████████████| 3.1 MB 8.6 MB/s \n",
      "\u001b[?25hRequirement already satisfied: filelock in /usr/local/lib/python3.7/dist-packages (from transformers==4.12.0) (3.6.0)\n",
      "Collecting huggingface-hub>=0.0.17\n",
      "  Downloading huggingface_hub-0.5.1-py3-none-any.whl (77 kB)\n",
      "\u001b[K     |████████████████████████████████| 77 kB 6.9 MB/s \n",
      "\u001b[?25hRequirement already satisfied: packaging>=20.0 in /usr/local/lib/python3.7/dist-packages (from transformers==4.12.0) (21.3)\n",
      "Requirement already satisfied: regex!=2019.12.17 in /usr/local/lib/python3.7/dist-packages (from transformers==4.12.0) (2019.12.20)\n",
      "Collecting tokenizers<0.11,>=0.10.1\n",
      "  Downloading tokenizers-0.10.3-cp37-cp37m-manylinux_2_5_x86_64.manylinux1_x86_64.manylinux_2_12_x86_64.manylinux2010_x86_64.whl (3.3 MB)\n",
      "\u001b[K     |████████████████████████████████| 3.3 MB 43.0 MB/s \n",
      "\u001b[?25hRequirement already satisfied: requests in /usr/local/lib/python3.7/dist-packages (from transformers==4.12.0) (2.23.0)\n",
      "Collecting sacremoses\n",
      "  Downloading sacremoses-0.0.49-py3-none-any.whl (895 kB)\n",
      "\u001b[K     |████████████████████████████████| 895 kB 50.4 MB/s \n",
      "\u001b[?25hCollecting pyyaml>=5.1\n",
      "  Downloading PyYAML-6.0-cp37-cp37m-manylinux_2_5_x86_64.manylinux1_x86_64.manylinux_2_12_x86_64.manylinux2010_x86_64.whl (596 kB)\n",
      "\u001b[K     |████████████████████████████████| 596 kB 69.7 MB/s \n",
      "\u001b[?25hRequirement already satisfied: importlib-metadata in /usr/local/lib/python3.7/dist-packages (from transformers==4.12.0) (4.11.3)\n",
      "Requirement already satisfied: tqdm>=4.27 in /usr/local/lib/python3.7/dist-packages (from transformers==4.12.0) (4.64.0)\n",
      "Requirement already satisfied: numpy>=1.17 in /usr/local/lib/python3.7/dist-packages (from transformers==4.12.0) (1.21.5)\n",
      "Requirement already satisfied: typing-extensions>=3.7.4.3 in /usr/local/lib/python3.7/dist-packages (from huggingface-hub>=0.0.17->transformers==4.12.0) (4.1.1)\n",
      "Requirement already satisfied: pyparsing!=3.0.5,>=2.0.2 in /usr/local/lib/python3.7/dist-packages (from packaging>=20.0->transformers==4.12.0) (3.0.8)\n",
      "Requirement already satisfied: zipp>=0.5 in /usr/local/lib/python3.7/dist-packages (from importlib-metadata->transformers==4.12.0) (3.8.0)\n",
      "Requirement already satisfied: idna<3,>=2.5 in /usr/local/lib/python3.7/dist-packages (from requests->transformers==4.12.0) (2.10)\n",
      "Requirement already satisfied: chardet<4,>=3.0.2 in /usr/local/lib/python3.7/dist-packages (from requests->transformers==4.12.0) (3.0.4)\n",
      "Requirement already satisfied: urllib3!=1.25.0,!=1.25.1,<1.26,>=1.21.1 in /usr/local/lib/python3.7/dist-packages (from requests->transformers==4.12.0) (1.24.3)\n",
      "Requirement already satisfied: certifi>=2017.4.17 in /usr/local/lib/python3.7/dist-packages (from requests->transformers==4.12.0) (2021.10.8)\n",
      "Requirement already satisfied: click in /usr/local/lib/python3.7/dist-packages (from sacremoses->transformers==4.12.0) (7.1.2)\n",
      "Requirement already satisfied: joblib in /usr/local/lib/python3.7/dist-packages (from sacremoses->transformers==4.12.0) (1.1.0)\n",
      "Requirement already satisfied: six in /usr/local/lib/python3.7/dist-packages (from sacremoses->transformers==4.12.0) (1.15.0)\n",
      "Installing collected packages: pyyaml, tokenizers, sacremoses, huggingface-hub, transformers\n",
      "  Attempting uninstall: pyyaml\n",
      "    Found existing installation: PyYAML 3.13\n",
      "    Uninstalling PyYAML-3.13:\n",
      "      Successfully uninstalled PyYAML-3.13\n",
      "Successfully installed huggingface-hub-0.5.1 pyyaml-6.0 sacremoses-0.0.49 tokenizers-0.10.3 transformers-4.12.0\n"
     ]
    }
   ],
   "source": [
    "! pip3 install transformers==4.12.0\n",
    "! cp /content/gdrive/MyDrive/Tbrain/data_description/submission_template.csv ./\n",
    "! unzip /content/gdrive/MyDrive/Tbrain/little_new_public_testing_data_with_artificial.zip > little_new_testing_data_unzip.log"
   ]
  },
  {
   "cell_type": "code",
   "execution_count": 21,
   "metadata": {
    "id": "cz5Hg3wAn2y7"
   },
   "outputs": [],
   "source": [
    "# download model from gdrive to colab\n",
    "! cp -r /content/gdrive/MyDrive/Tbrain/seq2seq/my-model-epoch54_processor ./\n",
    "! unzip /content/gdrive/MyDrive/Tbrain/seq2seq/my-model-epoch54.zip > my-model-epoch54.log"
   ]
  },
  {
   "cell_type": "code",
   "execution_count": 22,
   "metadata": {
    "id": "uNM2v4T_n21Z"
   },
   "outputs": [],
   "source": [
    "import os\n",
    "import torch\n",
    "from tqdm.auto import tqdm\n",
    "from pandas import read_csv, DataFrame\n",
    "from PIL import Image\n",
    "from torch.utils.data import Dataset, DataLoader\n",
    "from transformers import VisionEncoderDecoderConfig, TrOCRProcessor, VisionEncoderDecoderModel\n",
    "\n",
    "\n",
    "class TestDataset(Dataset):\n",
    "    def __init__(self, images_dir, csv_file):\n",
    "        self.images_dir = images_dir\n",
    "        self.df = read_csv(csv_file)\n",
    "        # get image columns\n",
    "        self.images = self.df['id'].tolist()\n",
    "\n",
    "    def __len__(self):\n",
    "        return len(self.images)\n",
    "\n",
    "    def __getitem__(self, index):\n",
    "        image_name = self.images[index] + '.jpg'\n",
    "        image = Image.open(os.path.join(self.images_dir, image_name)).convert('RGB')\n",
    "        return image\n",
    "\n",
    "\n",
    "class TestCollate:\n",
    "    \"\"\" To handle batch text input padding problem \"\"\"\n",
    "    def __init__(self, tokenizer):\n",
    "        self.tokenizer = tokenizer\n",
    "\n",
    "    def __call__(self, batch):\n",
    "        images = [item for item in batch]\n",
    "        images = self.tokenizer(images, return_tensors=\"pt\").pixel_values\n",
    "        return images"
   ]
  },
  {
   "cell_type": "code",
   "execution_count": 23,
   "metadata": {
    "colab": {
     "base_uri": "https://localhost:8080/",
     "height": 104,
     "referenced_widgets": [
      "cf168d2de92f47b0b16d1dcaefe33c61",
      "8884dcb9ea864104ad69cc4ae17f5c63",
      "cd364e5aacc44937818a8ae80b75238a",
      "3a956c7384984338991c10af88a7b736",
      "b0c5c15966834425b2cf8663d876206e",
      "e13d2446a4e441c5812ed14f725c0fd4",
      "9ba8ad8e9e3b45348934c41ddcafe274",
      "d03fe53fcc3645228a1489d9cdd5bccd",
      "a80e00694825421596ac23ec500d5ab8",
      "b227f06d2ead4d59a1ff7a458455fd7e",
      "6d5e7d92332f448d9c2eb1715886aafe"
     ]
    },
    "id": "69rWU0I7n24B",
    "outputId": "8acb6360-def1-4c5b-c50a-2cff912608c3"
   },
   "outputs": [
    {
     "data": {
      "application/vnd.jupyter.widget-view+json": {
       "model_id": "cf168d2de92f47b0b16d1dcaefe33c61",
       "version_major": 2,
       "version_minor": 0
      },
      "text/plain": [
       "  100%|██████████████| 60/60 [25:32<00:00, 25.58s/batch, mode=test]"
      ]
     },
     "metadata": {},
     "output_type": "display_data"
    }
   ],
   "source": [
    "device = 'cuda' if torch.cuda.is_available() else 'cpu'\n",
    "my_processor = TrOCRProcessor.from_pretrained('/content/my-model-epoch54_processor')\n",
    "encoder_decoder_config = VisionEncoderDecoderConfig.from_pretrained('/content/my-model-epoch54')\n",
    "my_model = VisionEncoderDecoderModel.from_pretrained('/content/my-model-epoch54', config=encoder_decoder_config).to(device)\n",
    "\n",
    "test_ds = TestDataset(images_dir='/content/little_new_public_testing_data/',\n",
    "            csv_file='/content/submission_template.csv')\n",
    "test_loader = DataLoader(dataset=test_ds, batch_size=100, shuffle=False, \n",
    "            collate_fn=TestCollate(tokenizer=my_processor))\n",
    "\n",
    "res_ls = []\n",
    "with tqdm(test_loader, unit='batch') as tepoch:\n",
    "    for pixel_values in tepoch:\n",
    "        generated_ids = my_model.generate(pixel_values.to(device))\n",
    "        generated_text = my_processor.batch_decode(generated_ids, skip_special_tokens=True)\n",
    "        generated_text = [i_str.replace(' ', '') for i_str in generated_text]\n",
    "        res_ls += generated_text\n",
    "        tepoch.set_postfix(mode='test')\n",
    "\n",
    "\n",
    "id_df = read_csv('/content/submission_template.csv')\n",
    "res_d = {'id': id_df['id'].tolist(), 'text': res_ls}\n",
    "res_df = DataFrame(res_d)\n",
    "res_df.to_csv('tbrain_result.csv', index=False)"
   ]
  }
 ],
 "metadata": {
  "accelerator": "GPU",
  "colab": {
   "collapsed_sections": [],
   "name": "Tbrain_test.ipynb",
   "provenance": []
  },
  "kernelspec": {
   "display_name": "Python 3",
   "language": "python",
   "name": "python3"
  },
  "language_info": {
   "codemirror_mode": {
    "name": "ipython",
    "version": 3
   },
   "file_extension": ".py",
   "mimetype": "text/x-python",
   "name": "python",
   "nbconvert_exporter": "python",
   "pygments_lexer": "ipython3",
   "version": "3.8.5"
  },
  "widgets": {
   "application/vnd.jupyter.widget-state+json": {
    "3a956c7384984338991c10af88a7b736": {
     "model_module": "@jupyter-widgets/controls",
     "model_module_version": "1.5.0",
     "model_name": "HTMLModel",
     "state": {
      "_dom_classes": [],
      "_model_module": "@jupyter-widgets/controls",
      "_model_module_version": "1.5.0",
      "_model_name": "HTMLModel",
      "_view_count": null,
      "_view_module": "@jupyter-widgets/controls",
      "_view_module_version": "1.5.0",
      "_view_name": "HTMLView",
      "description": "",
      "description_tooltip": null,
      "layout": "IPY_MODEL_b227f06d2ead4d59a1ff7a458455fd7e",
      "placeholder": "​",
      "style": "IPY_MODEL_6d5e7d92332f448d9c2eb1715886aafe",
      "value": " 60/60 [25:32&lt;00:00, 25.58s/batch, mode=test]"
     }
    },
    "6d5e7d92332f448d9c2eb1715886aafe": {
     "model_module": "@jupyter-widgets/controls",
     "model_module_version": "1.5.0",
     "model_name": "DescriptionStyleModel",
     "state": {
      "_model_module": "@jupyter-widgets/controls",
      "_model_module_version": "1.5.0",
      "_model_name": "DescriptionStyleModel",
      "_view_count": null,
      "_view_module": "@jupyter-widgets/base",
      "_view_module_version": "1.2.0",
      "_view_name": "StyleView",
      "description_width": ""
     }
    },
    "8884dcb9ea864104ad69cc4ae17f5c63": {
     "model_module": "@jupyter-widgets/controls",
     "model_module_version": "1.5.0",
     "model_name": "HTMLModel",
     "state": {
      "_dom_classes": [],
      "_model_module": "@jupyter-widgets/controls",
      "_model_module_version": "1.5.0",
      "_model_name": "HTMLModel",
      "_view_count": null,
      "_view_module": "@jupyter-widgets/controls",
      "_view_module_version": "1.5.0",
      "_view_name": "HTMLView",
      "description": "",
      "description_tooltip": null,
      "layout": "IPY_MODEL_e13d2446a4e441c5812ed14f725c0fd4",
      "placeholder": "​",
      "style": "IPY_MODEL_9ba8ad8e9e3b45348934c41ddcafe274",
      "value": "100%"
     }
    },
    "9ba8ad8e9e3b45348934c41ddcafe274": {
     "model_module": "@jupyter-widgets/controls",
     "model_module_version": "1.5.0",
     "model_name": "DescriptionStyleModel",
     "state": {
      "_model_module": "@jupyter-widgets/controls",
      "_model_module_version": "1.5.0",
      "_model_name": "DescriptionStyleModel",
      "_view_count": null,
      "_view_module": "@jupyter-widgets/base",
      "_view_module_version": "1.2.0",
      "_view_name": "StyleView",
      "description_width": ""
     }
    },
    "a80e00694825421596ac23ec500d5ab8": {
     "model_module": "@jupyter-widgets/controls",
     "model_module_version": "1.5.0",
     "model_name": "ProgressStyleModel",
     "state": {
      "_model_module": "@jupyter-widgets/controls",
      "_model_module_version": "1.5.0",
      "_model_name": "ProgressStyleModel",
      "_view_count": null,
      "_view_module": "@jupyter-widgets/base",
      "_view_module_version": "1.2.0",
      "_view_name": "StyleView",
      "bar_color": null,
      "description_width": ""
     }
    },
    "b0c5c15966834425b2cf8663d876206e": {
     "model_module": "@jupyter-widgets/base",
     "model_module_version": "1.2.0",
     "model_name": "LayoutModel",
     "state": {
      "_model_module": "@jupyter-widgets/base",
      "_model_module_version": "1.2.0",
      "_model_name": "LayoutModel",
      "_view_count": null,
      "_view_module": "@jupyter-widgets/base",
      "_view_module_version": "1.2.0",
      "_view_name": "LayoutView",
      "align_content": null,
      "align_items": null,
      "align_self": null,
      "border": null,
      "bottom": null,
      "display": null,
      "flex": null,
      "flex_flow": null,
      "grid_area": null,
      "grid_auto_columns": null,
      "grid_auto_flow": null,
      "grid_auto_rows": null,
      "grid_column": null,
      "grid_gap": null,
      "grid_row": null,
      "grid_template_areas": null,
      "grid_template_columns": null,
      "grid_template_rows": null,
      "height": null,
      "justify_content": null,
      "justify_items": null,
      "left": null,
      "margin": null,
      "max_height": null,
      "max_width": null,
      "min_height": null,
      "min_width": null,
      "object_fit": null,
      "object_position": null,
      "order": null,
      "overflow": null,
      "overflow_x": null,
      "overflow_y": null,
      "padding": null,
      "right": null,
      "top": null,
      "visibility": null,
      "width": null
     }
    },
    "b227f06d2ead4d59a1ff7a458455fd7e": {
     "model_module": "@jupyter-widgets/base",
     "model_module_version": "1.2.0",
     "model_name": "LayoutModel",
     "state": {
      "_model_module": "@jupyter-widgets/base",
      "_model_module_version": "1.2.0",
      "_model_name": "LayoutModel",
      "_view_count": null,
      "_view_module": "@jupyter-widgets/base",
      "_view_module_version": "1.2.0",
      "_view_name": "LayoutView",
      "align_content": null,
      "align_items": null,
      "align_self": null,
      "border": null,
      "bottom": null,
      "display": null,
      "flex": null,
      "flex_flow": null,
      "grid_area": null,
      "grid_auto_columns": null,
      "grid_auto_flow": null,
      "grid_auto_rows": null,
      "grid_column": null,
      "grid_gap": null,
      "grid_row": null,
      "grid_template_areas": null,
      "grid_template_columns": null,
      "grid_template_rows": null,
      "height": null,
      "justify_content": null,
      "justify_items": null,
      "left": null,
      "margin": null,
      "max_height": null,
      "max_width": null,
      "min_height": null,
      "min_width": null,
      "object_fit": null,
      "object_position": null,
      "order": null,
      "overflow": null,
      "overflow_x": null,
      "overflow_y": null,
      "padding": null,
      "right": null,
      "top": null,
      "visibility": null,
      "width": null
     }
    },
    "cd364e5aacc44937818a8ae80b75238a": {
     "model_module": "@jupyter-widgets/controls",
     "model_module_version": "1.5.0",
     "model_name": "FloatProgressModel",
     "state": {
      "_dom_classes": [],
      "_model_module": "@jupyter-widgets/controls",
      "_model_module_version": "1.5.0",
      "_model_name": "FloatProgressModel",
      "_view_count": null,
      "_view_module": "@jupyter-widgets/controls",
      "_view_module_version": "1.5.0",
      "_view_name": "ProgressView",
      "bar_style": "success",
      "description": "",
      "description_tooltip": null,
      "layout": "IPY_MODEL_d03fe53fcc3645228a1489d9cdd5bccd",
      "max": 60,
      "min": 0,
      "orientation": "horizontal",
      "style": "IPY_MODEL_a80e00694825421596ac23ec500d5ab8",
      "value": 60
     }
    },
    "cf168d2de92f47b0b16d1dcaefe33c61": {
     "model_module": "@jupyter-widgets/controls",
     "model_module_version": "1.5.0",
     "model_name": "HBoxModel",
     "state": {
      "_dom_classes": [],
      "_model_module": "@jupyter-widgets/controls",
      "_model_module_version": "1.5.0",
      "_model_name": "HBoxModel",
      "_view_count": null,
      "_view_module": "@jupyter-widgets/controls",
      "_view_module_version": "1.5.0",
      "_view_name": "HBoxView",
      "box_style": "",
      "children": [
       "IPY_MODEL_8884dcb9ea864104ad69cc4ae17f5c63",
       "IPY_MODEL_cd364e5aacc44937818a8ae80b75238a",
       "IPY_MODEL_3a956c7384984338991c10af88a7b736"
      ],
      "layout": "IPY_MODEL_b0c5c15966834425b2cf8663d876206e"
     }
    },
    "d03fe53fcc3645228a1489d9cdd5bccd": {
     "model_module": "@jupyter-widgets/base",
     "model_module_version": "1.2.0",
     "model_name": "LayoutModel",
     "state": {
      "_model_module": "@jupyter-widgets/base",
      "_model_module_version": "1.2.0",
      "_model_name": "LayoutModel",
      "_view_count": null,
      "_view_module": "@jupyter-widgets/base",
      "_view_module_version": "1.2.0",
      "_view_name": "LayoutView",
      "align_content": null,
      "align_items": null,
      "align_self": null,
      "border": null,
      "bottom": null,
      "display": null,
      "flex": null,
      "flex_flow": null,
      "grid_area": null,
      "grid_auto_columns": null,
      "grid_auto_flow": null,
      "grid_auto_rows": null,
      "grid_column": null,
      "grid_gap": null,
      "grid_row": null,
      "grid_template_areas": null,
      "grid_template_columns": null,
      "grid_template_rows": null,
      "height": null,
      "justify_content": null,
      "justify_items": null,
      "left": null,
      "margin": null,
      "max_height": null,
      "max_width": null,
      "min_height": null,
      "min_width": null,
      "object_fit": null,
      "object_position": null,
      "order": null,
      "overflow": null,
      "overflow_x": null,
      "overflow_y": null,
      "padding": null,
      "right": null,
      "top": null,
      "visibility": null,
      "width": null
     }
    },
    "e13d2446a4e441c5812ed14f725c0fd4": {
     "model_module": "@jupyter-widgets/base",
     "model_module_version": "1.2.0",
     "model_name": "LayoutModel",
     "state": {
      "_model_module": "@jupyter-widgets/base",
      "_model_module_version": "1.2.0",
      "_model_name": "LayoutModel",
      "_view_count": null,
      "_view_module": "@jupyter-widgets/base",
      "_view_module_version": "1.2.0",
      "_view_name": "LayoutView",
      "align_content": null,
      "align_items": null,
      "align_self": null,
      "border": null,
      "bottom": null,
      "display": null,
      "flex": null,
      "flex_flow": null,
      "grid_area": null,
      "grid_auto_columns": null,
      "grid_auto_flow": null,
      "grid_auto_rows": null,
      "grid_column": null,
      "grid_gap": null,
      "grid_row": null,
      "grid_template_areas": null,
      "grid_template_columns": null,
      "grid_template_rows": null,
      "height": null,
      "justify_content": null,
      "justify_items": null,
      "left": null,
      "margin": null,
      "max_height": null,
      "max_width": null,
      "min_height": null,
      "min_width": null,
      "object_fit": null,
      "object_position": null,
      "order": null,
      "overflow": null,
      "overflow_x": null,
      "overflow_y": null,
      "padding": null,
      "right": null,
      "top": null,
      "visibility": null,
      "width": null
     }
    }
   }
  }
 },
 "nbformat": 4,
 "nbformat_minor": 1
}
